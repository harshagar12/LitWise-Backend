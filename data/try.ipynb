{
 "cells": [
  {
   "cell_type": "code",
   "execution_count": 26,
   "id": "6cd0a9e5",
   "metadata": {},
   "outputs": [],
   "source": [
    "import pandas as pd\n",
    "import numpy as np\n",
    "from sklearn.cluster import KMeans\n",
    "from sklearn.feature_extraction.text import TfidfTransformer\n",
    "from sklearn.metrics.pairwise import cosine_similarity\n",
    "\n",
    "# Load datasets\n",
    "books = pd.read_csv('books.csv')\n",
    "tags = pd.read_csv('tags.csv')\n",
    "book_tags = pd.read_csv('book_tags.csv')\n",
    "ratings = pd.read_csv('ratings.csv')\n"
   ]
  },
  {
   "cell_type": "code",
   "execution_count": 27,
   "id": "66bfdb57",
   "metadata": {},
   "outputs": [
    {
     "name": "stdout",
     "output_type": "stream",
     "text": [
      "Tag feature matrix shape: (10000, 34252)\n"
     ]
    }
   ],
   "source": [
    "# Construct pivot table: rows = goodreads_book_id, columns = tag_id, values = count (fill missing with 0)\n",
    "pivot = book_tags.pivot_table(index='goodreads_book_id', columns='tag_id', values='count', fill_value=0)\n",
    "\n",
    "print(f\"Tag feature matrix shape: {pivot.shape}\")\n"
   ]
  },
  {
   "cell_type": "code",
   "execution_count": 28,
   "id": "26c0c4e7",
   "metadata": {},
   "outputs": [
    {
     "name": "stdout",
     "output_type": "stream",
     "text": [
      "Tag IDs for genre 'drama': [9886]\n"
     ]
    }
   ],
   "source": [
    "# Find tag_id(s) corresponding to genre 'fantasy' (case-insensitive)\n",
    "selected_genre = 'drama'\n",
    "genre_tag_ids = tags[tags['tag_name'].str.lower() == selected_genre.lower()]['tag_id'].tolist()\n",
    "print(f\"Tag IDs for genre '{selected_genre}': {genre_tag_ids}\")\n"
   ]
  },
  {
   "cell_type": "code",
   "execution_count": 29,
   "id": "571893b7",
   "metadata": {},
   "outputs": [
    {
     "name": "stdout",
     "output_type": "stream",
     "text": [
      "Total books in genre 'drama': 3046\n",
      "Filtered tag matrix shape for genre 'drama': (3046, 34252)\n"
     ]
    }
   ],
   "source": [
    "# Get goodreads_book_ids for books tagged with the selected genre_tag_ids\n",
    "books_in_genre = book_tags[book_tags['tag_id'].isin(genre_tag_ids)]['goodreads_book_id'].unique()\n",
    "print(f\"Total books in genre '{selected_genre}': {len(books_in_genre)}\")\n",
    "\n",
    "# Filter the pivot matrix to only these books\n",
    "pivot_genre = pivot.loc[pivot.index.intersection(books_in_genre)]\n",
    "print(f\"Filtered tag matrix shape for genre '{selected_genre}': {pivot_genre.shape}\")\n"
   ]
  },
  {
   "cell_type": "code",
   "execution_count": 30,
   "id": "ac1ef612",
   "metadata": {},
   "outputs": [
    {
     "name": "stdout",
     "output_type": "stream",
     "text": [
      "TF-IDF transformation applied on tag matrix for genre books.\n"
     ]
    }
   ],
   "source": [
    "tfidf = TfidfTransformer()\n",
    "pivot_genre_tfidf = tfidf.fit_transform(pivot_genre)\n",
    "\n",
    "print(\"TF-IDF transformation applied on tag matrix for genre books.\")\n"
   ]
  },
  {
   "cell_type": "code",
   "execution_count": 31,
   "id": "6caa682c",
   "metadata": {},
   "outputs": [
    {
     "name": "stdout",
     "output_type": "stream",
     "text": [
      "Books clustered into 5 clusters.\n"
     ]
    }
   ],
   "source": [
    "K = 5\n",
    "kmeans = KMeans(n_clusters=K, random_state=42)\n",
    "clusters = kmeans.fit_predict(pivot_genre_tfidf)\n",
    "\n",
    "# Add cluster assignments to pivot_genre DataFrame for easy lookup\n",
    "pivot_genre = pivot_genre.copy()\n",
    "pivot_genre['cluster'] = clusters\n",
    "print(f\"Books clustered into {K} clusters.\")\n"
   ]
  },
  {
   "cell_type": "code",
   "execution_count": 32,
   "id": "4ae60ef1",
   "metadata": {},
   "outputs": [
    {
     "name": "stdout",
     "output_type": "stream",
     "text": [
      "\n",
      "Sample books by cluster:\n",
      "\n",
      "Cluster 0:\n",
      " - Heart of the Sea (Gallaghers of Ardmore / Irish Trilogy, #3) by Nora Roberts\n",
      " - Angels Fall by Nora Roberts\n",
      " - Valley of Silence (Circle Trilogy, #3) by Nora Roberts\n",
      " - Red Lily (In the Garden, #3) by Nora Roberts\n",
      " - Inner Harbor (Chesapeake Bay Saga, #3) by Nora Roberts\n",
      "\n",
      "Cluster 1:\n",
      " - The Power of One (The Power of One, #1) by Bryce Courtenay\n",
      " - I am Charlotte Simmons by Tom Wolfe\n",
      " - Tropic of Capricorn by Henry Miller\n",
      " - The Lover by Marguerite Duras, Barbara Bray, Maxine Hong Kingston\n",
      " - Perfume: The Story of a Murderer by Patrick Süskind, John E. Woods\n",
      "\n",
      "Cluster 2:\n",
      " - The Broken Wings by Kahlil Gibran, Anthony R. Ferris\n",
      " - Moon Palace by Paul Auster\n",
      " - The Da Vinci Code (Robert Langdon, #2) by Dan Brown\n",
      " - The Good Earth (House of Earth, #1) by Pearl S. Buck\n",
      " - The Broker by John Grisham\n",
      "\n",
      "Cluster 3:\n",
      " - Kiss an Angel by Susan Elizabeth Phillips\n",
      " - Love Story (Love Story, #1) by Erich Segal\n",
      " - Perfect (Second Opportunities, #2) by Judith McNaught\n",
      " - Sugar Daddy (Travises, #1) by Lisa Kleypas\n",
      " - One Day by David Nicholls\n",
      "\n",
      "Cluster 4:\n",
      " - Tropic of Cancer by Henry Miller\n",
      " - One Hundred Years of Solitude by Gabriel García Márquez, Gregory Rabassa\n",
      " - We the Living by Ayn Rand, Leonard Peikoff\n",
      " - Of Mice and Men by John Steinbeck\n",
      " - The Iliad/The Odyssey by Homer, Robert Fagles, Bernard Knox\n"
     ]
    }
   ],
   "source": [
    "# Map goodreads_book_id -> book details\n",
    "books_subset = books.set_index('goodreads_book_id')\n",
    "\n",
    "print(\"\\nSample books by cluster:\")\n",
    "for c in range(K):\n",
    "    cluster_books = pivot_genre[pivot_genre['cluster'] == c].index\n",
    "    sample_books = cluster_books[:5]  # show 5 books from cluster\n",
    "    print(f\"\\nCluster {c}:\")\n",
    "    for gbid in sample_books:\n",
    "        if gbid in books_subset.index:\n",
    "            print(f\" - {books_subset.loc[gbid]['title']} by {books_subset.loc[gbid]['authors']}\")\n"
   ]
  },
  {
   "cell_type": "code",
   "execution_count": 33,
   "id": "5e6cf52b",
   "metadata": {},
   "outputs": [
    {
     "name": "stdout",
     "output_type": "stream",
     "text": [
      "\n",
      "User favorite books selected (goodreads_book_id): [np.int64(122), np.int64(449)]\n"
     ]
    }
   ],
   "source": [
    "user_favorites = [\n",
    "    # Example goodreads_book_ids user has chosen (please change as per your data)\n",
    "    pivot_genre.index[0],  # first book in genre cluster 0\n",
    "    pivot_genre.index[10], # another random book in the cluster\n",
    "]\n",
    "print(\"\\nUser favorite books selected (goodreads_book_id):\", user_favorites)\n"
   ]
  },
  {
   "cell_type": "code",
   "execution_count": 34,
   "id": "7ae58a17",
   "metadata": {},
   "outputs": [
    {
     "name": "stdout",
     "output_type": "stream",
     "text": [
      "\n",
      "Top recommended books for user:\n",
      " - Invisible by Paul Auster\n",
      " - The Human Stain (The American Trilogy, #3) by Philip Roth\n",
      " - Enduring Love by Ian McEwan\n",
      " - White Teeth by Zadie Smith\n",
      " - The Remains of the Day by Kazuo Ishiguro\n",
      " - Glamorama by Bret Easton Ellis\n",
      " - The Accidental Tourist by Anne Tyler, Jennifer Bassett\n",
      " - The Rules of Attraction by Bret Easton Ellis\n",
      " - Middlesex by Jeffrey Eugenides\n",
      " - Revolutionary Road by Richard Yates\n"
     ]
    }
   ],
   "source": [
    "# Extract indices in pivot_genre for user's favorite books\n",
    "favorite_indices = [pivot_genre.index.get_loc(gbid) for gbid in user_favorites]\n",
    "\n",
    "user_profile = pivot_genre_tfidf[favorite_indices].mean(axis=0)\n",
    "\n",
    "# Convert from np.matrix to np.ndarray\n",
    "user_profile_array = np.asarray(user_profile)\n",
    "\n",
    "# Calculate cosine similarity\n",
    "similarities = cosine_similarity(pivot_genre_tfidf, user_profile_array).flatten()\n",
    "\n",
    "# Get books most similar to user's taste, excluding already selected favorites\n",
    "recommended_indices = np.argsort(similarities)[::-1]  # descending order\n",
    "recommended_books_gbid = [pivot_genre.index[i] for i in recommended_indices if pivot_genre.index[i] not in user_favorites]\n",
    "\n",
    "# Show top 10 recommended books\n",
    "top_n = 10\n",
    "recommended_top = recommended_books_gbid[:top_n]\n",
    "\n",
    "print(\"\\nTop recommended books for user:\")\n",
    "for gbid in recommended_top:\n",
    "    if gbid in books_subset.index:\n",
    "        print(f\" - {books_subset.loc[gbid]['title']} by {books_subset.loc[gbid]['authors']}\")\n"
   ]
  },
  {
   "cell_type": "code",
   "execution_count": null,
   "id": "d0383caf",
   "metadata": {},
   "outputs": [],
   "source": []
  }
 ],
 "metadata": {
  "kernelspec": {
   "display_name": "base",
   "language": "python",
   "name": "python3"
  },
  "language_info": {
   "codemirror_mode": {
    "name": "ipython",
    "version": 3
   },
   "file_extension": ".py",
   "mimetype": "text/x-python",
   "name": "python",
   "nbconvert_exporter": "python",
   "pygments_lexer": "ipython3",
   "version": "3.13.5"
  }
 },
 "nbformat": 4,
 "nbformat_minor": 5
}
